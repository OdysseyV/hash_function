{
 "cells": [
  {
   "cell_type": "markdown",
   "id": "9f9267df",
   "metadata": {
    "pycharm": {
     "name": "#%% md\n"
    }
   },
   "source": [
    "## Assignment 2 - Cryptographic Systems and Protocols Group Assignment\n",
    "### Megha Sapra, Odyssey Villagomez\n"
   ]
  },
  {
   "cell_type": "markdown",
   "id": "5f0e995d",
   "metadata": {
    "pycharm": {
     "name": "#%% md\n"
    }
   },
   "source": [
    "Part 1 - Using any programming language (Preferably Java or Python), develop your own hash function. Given an input string x of any length, your hash function must generate a random output bit vector y of length 32 bits. You should only use logical operators (&, |, >>, <<) and also (Rotate right/left) to generate the output (digest). You can take ideas from how existing Hash functions like SHA-2 are designed. "
   ]
  },
  {
   "cell_type": "code",
   "execution_count": 255,
   "id": "fd0d6dd6",
   "metadata": {
    "pycharm": {
     "name": "#%%\n"
    }
   },
   "outputs": [],
   "source": [
    "import string \n",
    "import random"
   ]
  },
  {
   "cell_type": "code",
   "execution_count": 288,
   "id": "0f78e708",
   "metadata": {
    "pycharm": {
     "name": "#%%\n"
    }
   },
   "outputs": [],
   "source": [
    "# rotate functions from https://www.geeksforgeeks.org/python-logical-operators-with-examples-improvement-needed/\n",
    "def leftrotate(s, d):\n",
    "    tmp = s[d : ] + s[0 : d]\n",
    "    return int(tmp)\n",
    "def rightRotate(n, d):\n",
    "    return leftrotate(s, len(s) - d)"
   ]
  },
  {
   "cell_type": "code",
   "execution_count": 289,
   "id": "e060f4e2",
   "metadata": {
    "pycharm": {
     "name": "#%%\n"
    }
   },
   "outputs": [],
   "source": [
    "# Binary operations\n",
    "def F(X,Y,Z):\n",
    "    return( (X&Y)|((~X)&Z) )\n",
    "\n",
    "def FF(a,b,c,d,M,s):\n",
    "    result = b + leftrotate( str(a+F(b,c,d)+M), s)\n",
    "    return(result)\n",
    "\n",
    "def hashFunction(x):    #generate random output of length 32 bits\n",
    "    A = 0x67452301\n",
    "    B = 0xefcdab89\n",
    "    C = 0x98badcfe\n",
    "    D = 0x10325476\n",
    "    \n",
    "    x_bytes = x.encode()     #enocde string to bytes \n",
    "    hashArr = []\n",
    "    \n",
    "    # for each 'block' in the string, perform some operations\n",
    "    # block is 8 bits, \n",
    "    \n",
    "    for block in x_bytes: \n",
    "        #Each block is further broken in 2 bit words\n",
    "\n",
    "        block = bin(block)    #convert block to its corresponding bits \n",
    "        bits = block[2:len(block)]    #only keep actual bits, not starting '0b' value \n",
    "\n",
    "        # pad block to size 8 \n",
    "        if len(bits) < 8: \n",
    "            for i in range (len(bits),8):\n",
    "                bits = bits + '1'\n",
    "\n",
    "        word1 = bits[0:2]\n",
    "        word2 = bits[2:4]\n",
    "        word3 = bits[4:6]\n",
    "        word4 = bits[6:8]\n",
    "        \n",
    "        #perform logical operations sub blocks  (words)\n",
    "        shift = random.randint(1,10)\n",
    "        a = FF(A,B,C,D, int(word1),shift)\n",
    "        \n",
    "        shift = random.randint(1,10)\n",
    "        b = FF(A,B,C,D, int(word2),shift)\n",
    "        \n",
    "        shift = random.randint(1,10)\n",
    "        c = FF(A,B,C,D, int(word3),shift)\n",
    "        \n",
    "        shift = random.randint(1,10)\n",
    "        d = FF(A,B,C,D, int(word4),shift)\n",
    "            \n",
    "        #combine outputs and add to hash array\n",
    "        new_byte = a + b + c + d\n",
    "        hashArr.append(new_byte)\n",
    "        \n",
    "        \n",
    "    \n",
    "    hashValue = ''\n",
    "    for item in hashArr:     #combine values from the blocks\n",
    "        hashValue = hashValue + str(bin(item)) #convert the integer to its binary form so that we can limit to 32 bits\n",
    "        \n",
    "    return str(hashValue)[0:32] #limit hash digest to 32 bits "
   ]
  },
  {
   "cell_type": "markdown",
   "id": "ec820bc1",
   "metadata": {
    "pycharm": {
     "name": "#%% md\n"
    }
   },
   "source": [
    "Part 2 - Then, write a method that finds collisions in your hash function using brute-force attack. This method will generate many random input strings and stops when two strings have the same hash. Analyze your hash function in terms of robustness using the concept of birthday attack."
   ]
  },
  {
   "cell_type": "code",
   "execution_count": 282,
   "id": "7d9de994",
   "metadata": {
    "pycharm": {
     "name": "#%%\n"
    }
   },
   "outputs": [],
   "source": [
    "def bruteForceAttack():\n",
    "    print(\"Attacking...\")\n",
    "    counter = 0; \n",
    "    noCollision = True\n",
    "    length = random.randint(1,1000)\n",
    "    while(noCollision):\n",
    "        randomString1 = (''.join(random.choices(string.hexdigits, k= 10 )))    #generted randomly \n",
    "        randomString2 = (''.join(random.choices(string.hexdigits, k= 10)))     #generted randomly\n",
    "        \n",
    "        hash1 = hashFunction(randomString1)\n",
    "        hash2 = hashFunction(randomString2)\n",
    "        \n",
    "        if hash1 == hash2:\n",
    "            #print(randomString1, randomString2)\n",
    "            print(\"collison at\", hash1, \"equals\", hash2)\n",
    "            noCollision = None    #stop while loop\n",
    "            return counter\n",
    "        else:\n",
    "            counter = counter + 1 \n",
    "        \n",
    "        if counter >= 65536:     #(2^16 tries)\n",
    "            noCollision = None\n",
    "            return counter"
   ]
  },
  {
   "cell_type": "code",
   "execution_count": 287,
   "id": "64d90a4c",
   "metadata": {
    "pycharm": {
     "name": "#%%\n"
    }
   },
   "outputs": [
    {
     "name": "stdout",
     "output_type": "stream",
     "text": [
      "Attacking...\n",
      "collison at 0b110000100010000111111010010100 equals 0b110000100010000111111010010100\n",
      "Attacking...\n",
      "collison at 0b100101111100101000011111101101 equals 0b100101111100101000011111101101\n",
      "Attacking...\n",
      "Attacking...\n",
      "collison at 0b100100100010011111101011011110 equals 0b100100100010011111101011011110\n",
      "Attacking...\n",
      "collison at 0b111101001011011001001001010000 equals 0b111101001011011001001001010000\n",
      "Average attempts to get collision:  22735.0\n"
     ]
    }
   ],
   "source": [
    "total = 0\n",
    "for i in range(0,5):\n",
    "    attempts = bruteForceAttack()\n",
    "    total = total + attempts\n",
    "\n",
    "\n",
    "print(\"Average attempts to get collision: \", total/5)"
   ]
  },
  {
   "cell_type": "markdown",
   "id": "5fd5b233",
   "metadata": {
    "pycharm": {
     "name": "#%% md\n"
    }
   },
   "source": [
    "Part 3 - Write a short report describing your hash function, your brute-force attack function, and your analysis on its robustness."
   ]
  },
  {
   "cell_type": "markdown",
   "id": "84f763f6",
   "metadata": {
    "pycharm": {
     "name": "#%% md\n"
    }
   },
   "source": [
    "The hash function is modeled after SHA-256 where the input string s is divided into blocks (size 8 bits) and then those blocks are further divided into sub blocks (size 2 bits). The sub block performs binary operations on the word, combining it with inialization values. The result of the sub blocks are concatenated and only the first 32 bits of the value are kept, to output a digest of size 32 bits. \n",
    "\n",
    "For the hash function to be secure it needs to be resitant to (2^16) brute force attacks, defined by the birthday bound of 2^(n/32) where n is the size of the hash, 32. \n",
    "\n",
    "The hash funciton was evaluated by attempting a brute force attack 5 times. The amount of steps to break the attack are averaged and result in average steps of ~15,000, ~7000, and 22000. This hash function is not secure, based on the birthday attack because it takes less than 2^16 steps to find a collision"
   ]
  }
 ],
 "metadata": {
  "kernelspec": {
   "display_name": "Python 3 (ipykernel)",
   "language": "python",
   "name": "python3"
  },
  "language_info": {
   "codemirror_mode": {
    "name": "ipython",
    "version": 3
   },
   "file_extension": ".py",
   "mimetype": "text/x-python",
   "name": "python",
   "nbconvert_exporter": "python",
   "pygments_lexer": "ipython3",
   "version": "3.9.12"
  }
 },
 "nbformat": 4,
 "nbformat_minor": 5
}